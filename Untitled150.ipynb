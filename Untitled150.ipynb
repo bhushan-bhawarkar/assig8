{
  "nbformat": 4,
  "nbformat_minor": 0,
  "metadata": {
    "colab": {
      "provenance": []
    },
    "kernelspec": {
      "name": "python3",
      "display_name": "Python 3"
    },
    "language_info": {
      "name": "python"
    }
  },
  "cells": [
    {
      "cell_type": "markdown",
      "source": [
        "<aside>\n",
        "💡 **Question 1**\n",
        "\n",
        "Given two strings s1 and s2, return *the lowest **ASCII** sum of deleted characters to make two strings equal*.\n",
        "\n",
        "**Example 1:**\n",
        "\n",
        "**Input:** s1 = \"sea\", s2 = \"eat\"\n",
        "\n",
        "**Output:** 231\n",
        "\n",
        "**Explanation:** Deleting \"s\" from \"sea\" adds the ASCII value of \"s\" (115) to the sum.\n",
        "\n",
        "Deleting \"t\" from \"eat\" adds 116 to the sum.\n",
        "\n",
        "At the end, both strings are equal, and 115 + 116 = 231 is the minimum sum possible to achieve this.\n",
        "\n",
        "</aside>"
      ],
      "metadata": {
        "id": "9pVPgCHU-eUp"
      }
    },
    {
      "cell_type": "code",
      "source": [
        "def minimumDeleteSum(s1, s2):\n",
        "    m, n = len(s1), len(s2)\n",
        "    dp = [[0] * (n + 1) for _ in range(m + 1)]\n",
        "\n",
        "    # Fill base cases\n",
        "    for i in range(1, m + 1):\n",
        "        dp[i][0] = dp[i - 1][0] + ord(s1[i - 1])\n",
        "    for j in range(1, n + 1):\n",
        "        dp[0][j] = dp[0][j - 1] + ord(s2[j - 1])\n",
        "\n",
        "    # Fill remaining cells\n",
        "    for i in range(1, m + 1):\n",
        "        for j in range(1, n + 1):\n",
        "            if s1[i - 1] == s2[j - 1]:\n",
        "                dp[i][j] = dp[i - 1][j - 1]\n",
        "            else:\n",
        "                dp[i][j] = min(dp[i - 1][j] + ord(s1[i - 1]), dp[i][j - 1] + ord(s2[j - 1]))\n",
        "\n",
        "    return dp[m][n]\n",
        "s1 = \"sea\"\n",
        "s2 = \"\"\n",
        "minimumDeleteSum(s1, s2)"
      ],
      "metadata": {
        "colab": {
          "base_uri": "https://localhost:8080/"
        },
        "id": "7MUrCKT6-fX1",
        "outputId": "60c1b504-cb7c-43f6-af46-7be8c8858804"
      },
      "execution_count": 4,
      "outputs": [
        {
          "output_type": "execute_result",
          "data": {
            "text/plain": [
              "313"
            ]
          },
          "metadata": {},
          "execution_count": 4
        }
      ]
    },
    {
      "cell_type": "markdown",
      "source": [
        "<aside>\n",
        "💡 **Question 2**\n",
        "\n",
        "Given a string s containing only three types of characters: '(', ')' and '*', return true *if* s *is **valid***.\n",
        "\n",
        "The following rules define a **valid** string:\n",
        "\n",
        "- Any left parenthesis '(' must have a corresponding right parenthesis ')'.\n",
        "- Any right parenthesis ')' must have a corresponding left parenthesis '('.\n",
        "- Left parenthesis '(' must go before the corresponding right parenthesis ')'.\n",
        "- '*' could be treated as a single right parenthesis ')' or a single left parenthesis '(' or an empty string \"\".\n",
        "\n",
        "**Example 1:**\n",
        "\n",
        "**Input:** s = \"()\"\n",
        "\n",
        "**Output:**\n",
        "\n",
        "true\n",
        "\n",
        "</aside>"
      ],
      "metadata": {
        "id": "If_tRH9o-phU"
      }
    },
    {
      "cell_type": "code",
      "source": [
        "def isValid(s):\n",
        "    stack = []\n",
        "\n",
        "    for char in s:\n",
        "        if char == '(' or char == '*':\n",
        "            stack.append(char)\n",
        "        elif char == ')':\n",
        "            if stack and stack[-1] == '(':\n",
        "                stack.pop()\n",
        "            elif stack and stack[-1] == '*':\n",
        "                stack.pop()\n",
        "            else:\n",
        "                return False\n",
        "\n",
        "    while stack:\n",
        "        if stack[-1] == '(':\n",
        "            return False\n",
        "        stack.pop()\n",
        "\n",
        "    return True\n",
        "s = \"()\"\n",
        "print(isValid(s))\n"
      ],
      "metadata": {
        "colab": {
          "base_uri": "https://localhost:8080/"
        },
        "id": "tMYAMPVJ-qhr",
        "outputId": "204a40ee-cb3d-4736-b5b1-a1b899bf2ddb"
      },
      "execution_count": 5,
      "outputs": [
        {
          "output_type": "stream",
          "name": "stdout",
          "text": [
            "True\n"
          ]
        }
      ]
    },
    {
      "cell_type": "markdown",
      "source": [
        "<aside>\n",
        "💡 **Question 3**\n",
        "\n",
        "Given two strings word1 and word2, return *the minimum number of **steps** required to make* word1 *and* word2 *the same*.\n",
        "\n",
        "In one **step**, you can delete exactly one character in either string.\n",
        "\n",
        "**Example 1:**\n",
        "\n",
        "**Input:** word1 = \"sea\", word2 = \"eat\"\n",
        "\n",
        "**Output:** 2\n",
        "\n",
        "**Explanation:** You need one step to make \"sea\" to \"ea\" and another step to make \"eat\" to \"ea\".\n",
        "\n",
        "</aside>"
      ],
      "metadata": {
        "id": "34GSu_-t_bu4"
      }
    },
    {
      "cell_type": "code",
      "source": [
        "def minDistance(word1, word2):\n",
        "    m, n = len(word1), len(word2)\n",
        "    dp = [[0] * (n + 1) for _ in range(m + 1)]\n",
        "\n",
        "    # Fill base cases\n",
        "    for i in range(1, m + 1):\n",
        "        dp[i][0] = dp[i - 1][0] + 1\n",
        "    for j in range(1, n + 1):\n",
        "        dp[0][j] = dp[0][j - 1] + 1\n",
        "\n",
        "    # Fill remaining cells\n",
        "    for i in range(1, m + 1):\n",
        "        for j in range(1, n + 1):\n",
        "            if word1[i - 1] == word2[j - 1]:\n",
        "                dp[i][j] = dp[i - 1][j - 1]\n",
        "            else:\n",
        "                dp[i][j] = min(dp[i - 1][j] + 1, dp[i][j - 1] + 1)\n",
        "\n",
        "    return dp[m][n]\n",
        "word1 = \"sea\"\n",
        "word2 = \"eat\"\n",
        "print(minDistance(word1, word2))\n"
      ],
      "metadata": {
        "colab": {
          "base_uri": "https://localhost:8080/"
        },
        "id": "iO2J1qL1_X_z",
        "outputId": "7fdfd83e-baeb-4c70-daa5-5de7324986da"
      },
      "execution_count": 6,
      "outputs": [
        {
          "output_type": "stream",
          "name": "stdout",
          "text": [
            "2\n"
          ]
        }
      ]
    },
    {
      "cell_type": "markdown",
      "source": [
        "<aside>\n",
        "💡 **Question 5**\n",
        "\n",
        "Given an array of characters chars, compress it using the following algorithm:\n",
        "\n",
        "Begin with an empty string s. For each group of **consecutive repeating characters** in chars:\n",
        "\n",
        "- If the group's length is 1, append the character to s.\n",
        "- Otherwise, append the character followed by the group's length.\n",
        "\n",
        "The compressed string s **should not be returned separately**, but instead, be stored **in the input character array chars**. Note that group lengths that are 10 or longer will be split into multiple characters in chars.\n",
        "\n",
        "After you are done **modifying the input array,** return *the new length of the array*.\n",
        "\n",
        "You must write an algorithm that uses only constant extra space.\n",
        "\n",
        "**Example 1:**\n",
        "\n",
        "**Input:** chars = [\"a\",\"a\",\"b\",\"b\",\"c\",\"c\",\"c\"]\n",
        "\n",
        "**Output:** Return 6, and the first 6 characters of the input array should be: [\"a\",\"2\",\"b\",\"2\",\"c\",\"3\"]\n",
        "\n",
        "**Explanation:**\n",
        "\n",
        "The groups are \"aa\", \"bb\", and \"ccc\". This compresses to \"a2b2c3\".\n",
        "\n",
        "</aside>"
      ],
      "metadata": {
        "id": "tXo6GWyZ_nUj"
      }
    },
    {
      "cell_type": "code",
      "source": [
        "def compress(chars):\n",
        "    read = write = 0\n",
        "    count = 1\n",
        "\n",
        "    for read in range(1, len(chars)):\n",
        "        if chars[read] == chars[read - 1]:\n",
        "            count += 1\n",
        "        else:\n",
        "            chars[write] = chars[read - 1]\n",
        "            write += 1\n",
        "\n",
        "            if count > 1:\n",
        "                for digit in str(count):\n",
        "                    chars[write] = digit\n",
        "                    write += 1\n",
        "\n",
        "            count = 1\n",
        "\n",
        "    chars[write] = chars[read]\n",
        "    write += 1\n",
        "\n",
        "    if count > 1:\n",
        "        for digit in str(count):\n",
        "            chars[write] = digit\n",
        "            write += 1\n",
        "\n",
        "    return write\n",
        "\n",
        "chars = [\"a\", \"a\", \"b\", \"b\", \"c\", \"c\", \"c\"]\n",
        "length = compress(chars)\n",
        "print(length)\n",
        "print(chars[:length])\n"
      ],
      "metadata": {
        "colab": {
          "base_uri": "https://localhost:8080/"
        },
        "id": "oT-4pXG1_oTR",
        "outputId": "10cbfa68-385d-43e5-ba3a-0c07c540fe95"
      },
      "execution_count": 7,
      "outputs": [
        {
          "output_type": "stream",
          "name": "stdout",
          "text": [
            "6\n",
            "['a', '2', 'b', '2', 'c', '3']\n"
          ]
        }
      ]
    },
    {
      "cell_type": "code",
      "source": [],
      "metadata": {
        "id": "wWvDjFqcAH7q"
      },
      "execution_count": null,
      "outputs": []
    },
    {
      "cell_type": "markdown",
      "source": [
        "<aside>\n",
        "💡 **Question 6**\n",
        "\n",
        "Given two strings s and p, return *an array of all the start indices of* p*'s anagrams in* s. You may return the answer in **any order**.\n",
        "\n",
        "An **Anagram** is a word or phrase formed by rearranging the letters of a different word or phrase, typically using all the original letters exactly once.\n",
        "\n",
        "**Example 1:**\n",
        "\n",
        "**Input:** s = \"cbaebabacd\", p = \"abc\"\n",
        "\n",
        "**Output:** [0,6]\n",
        "\n",
        "**Explanation:**\n",
        "\n",
        "The substring with start index = 0 is \"cba\", which is an anagram of \"abc\".\n",
        "\n",
        "The substring with start index = 6 is \"bac\", which is an anagram of \"abc\".\n",
        "\n",
        "</aside>"
      ],
      "metadata": {
        "id": "OGfcjW59AKch"
      }
    },
    {
      "cell_type": "code",
      "source": [
        "def findAnagrams(s, p):\n",
        "    p_freq = [0] * 26\n",
        "    s_freq = [0] * 26\n",
        "\n",
        "    for char in p:\n",
        "        p_freq[ord(char) - ord('a')] += 1\n",
        "\n",
        "    left = right = 0\n",
        "    matches = 0\n",
        "    result = []\n",
        "\n",
        "    while right < len(s):\n",
        "        s_freq[ord(s[right]) - ord('a')] += 1\n",
        "\n",
        "        if s_freq[ord(s[right]) - ord('a')] <= p_freq[ord(s[right]) - ord('a')]:\n",
        "            matches += 1\n",
        "\n",
        "        if right - left + 1 > len(p):\n",
        "            s_freq[ord(s[left]) - ord('a')] -= 1\n",
        "            if s_freq[ord(s[left]) - ord('a')] < p_freq[ord(s[left]) - ord('a')]:\n",
        "                matches -= 1\n",
        "            left += 1\n",
        "\n",
        "        if matches == len(p):\n",
        "            result.append(left)\n",
        "\n",
        "        right += 1\n",
        "\n",
        "    return result\n",
        "s = \"cbaebabacd\"\n",
        "p = \"abc\"\n",
        "print(findAnagrams(s, p))\n"
      ],
      "metadata": {
        "colab": {
          "base_uri": "https://localhost:8080/"
        },
        "id": "fMOxhK11AMAR",
        "outputId": "9ec0a01d-eaf5-4b04-bb7e-2d06d7a06944"
      },
      "execution_count": 8,
      "outputs": [
        {
          "output_type": "stream",
          "name": "stdout",
          "text": [
            "[0, 6]\n"
          ]
        }
      ]
    },
    {
      "cell_type": "markdown",
      "source": [
        "<aside>\n",
        "💡 **Question 7**\n",
        "\n",
        "Given an encoded string, return its decoded string.\n",
        "\n",
        "The encoding rule is: k[encoded_string], where the encoded_string inside the square brackets is being repeated exactly k times. Note that k is guaranteed to be a positive integer.\n",
        "\n",
        "You may assume that the input string is always valid; there are no extra white spaces, square brackets are well-formed, etc. Furthermore, you may assume that the original data does not contain any digits and that digits are only for those repeat numbers, k. For example, there will not be input like 3a or 2[4].\n",
        "\n",
        "The test cases are generated so that the length of the output will never exceed 105.\n",
        "\n",
        "**Example 1:**\n",
        "\n",
        "**Input:** s = \"3[a]2[bc]\"\n",
        "\n",
        "**Output:** \"aaabcbc\"\n",
        "\n",
        "</aside>"
      ],
      "metadata": {
        "id": "lIs8RqQEAmRl"
      }
    },
    {
      "cell_type": "code",
      "source": [
        "def decodeString(s):\n",
        "    stack = []\n",
        "    count = 0\n",
        "    current_str = ''\n",
        "\n",
        "    for char in s:\n",
        "        if char.isdigit():\n",
        "            count = count * 10 + int(char)\n",
        "        elif char == '[':\n",
        "            stack.append((count, current_str))\n",
        "            count = 0\n",
        "            current_str = ''\n",
        "        elif char == ']':\n",
        "            repeat_count, prev_str = stack.pop()\n",
        "            current_str = prev_str + current_str * repeat_count\n",
        "        else:\n",
        "            current_str += char\n",
        "\n",
        "    return current_str\n",
        "\n",
        "\n",
        "s = \"3[a]2[bc]\"\n",
        "print(decodeString(s))\n"
      ],
      "metadata": {
        "colab": {
          "base_uri": "https://localhost:8080/"
        },
        "id": "xoyRRC-3AeY7",
        "outputId": "caf73e55-44de-432c-a2c0-73016065d8bf"
      },
      "execution_count": 9,
      "outputs": [
        {
          "output_type": "stream",
          "name": "stdout",
          "text": [
            "aaabcbc\n"
          ]
        }
      ]
    },
    {
      "cell_type": "markdown",
      "source": [
        "<aside>\n",
        "💡 **Question 8**\n",
        "\n",
        "Given two strings s and goal, return true *if you can swap two letters in* s *so the result is equal to* goal*, otherwise, return* false*.*\n",
        "\n",
        "Swapping letters is defined as taking two indices i and j (0-indexed) such that i != j and swapping the characters at s[i] and s[j].\n",
        "\n",
        "- For example, swapping at indices 0 and 2 in \"abcd\" results in \"cbad\".\n",
        "\n",
        "**Example 1:**\n",
        "\n",
        "**Input:** s = \"ab\", goal = \"ba\"\n",
        "\n",
        "**Output:** true\n",
        "\n",
        "**Explanation:** You can swap s[0] = 'a' and s[1] = 'b' to get \"ba\", which is equal to goal.\n",
        "\n",
        "</aside>"
      ],
      "metadata": {
        "id": "rge23BNXA4Hy"
      }
    },
    {
      "cell_type": "code",
      "source": [
        "def buddyStrings(s, goal):\n",
        "    if len(s) != len(goal):\n",
        "        return False\n",
        "\n",
        "    diff = []\n",
        "    indices = []\n",
        "\n",
        "    for i in range(len(s)):\n",
        "        if s[i] != goal[i]:\n",
        "            diff.append((s[i], goal[i]))\n",
        "            indices.append(i)\n",
        "\n",
        "    if len(diff) != 2:\n",
        "        return False\n",
        "\n",
        "    if diff[0][0] == diff[1][1] and diff[0][1] == diff[1][0]:\n",
        "        return True\n",
        "\n",
        "    return False\n",
        "\n",
        "s = \"ab\"\n",
        "goal = \"ba\"\n",
        "print(buddyStrings(s, goal))\n"
      ],
      "metadata": {
        "colab": {
          "base_uri": "https://localhost:8080/"
        },
        "id": "G0ZUARYAA5PU",
        "outputId": "7b98a14b-cc2e-42a7-dc57-17e910f78e0c"
      },
      "execution_count": 10,
      "outputs": [
        {
          "output_type": "stream",
          "name": "stdout",
          "text": [
            "True\n"
          ]
        }
      ]
    },
    {
      "cell_type": "code",
      "source": [],
      "metadata": {
        "id": "wM7L8TSLAzax"
      },
      "execution_count": null,
      "outputs": []
    }
  ]
}